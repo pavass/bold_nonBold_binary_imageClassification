{
  "nbformat": 4,
  "nbformat_minor": 0,
  "metadata": {
    "colab": {
      "name": "bold_heading_detection.ipynb",
      "provenance": [],
      "authorship_tag": "ABX9TyNFlHLuMAZpd5gWFOiB56pw",
      "include_colab_link": true
    },
    "kernelspec": {
      "name": "python3",
      "display_name": "Python 3"
    },
    "language_info": {
      "name": "python"
    },
    "accelerator": "GPU"
  },
  "cells": [
    {
      "cell_type": "markdown",
      "metadata": {
        "id": "view-in-github",
        "colab_type": "text"
      },
      "source": [
        "<a href=\"https://colab.research.google.com/github/pavass/bold_nonBold_binary_imageClassification/blob/main/bold_heading_detection.ipynb\" target=\"_parent\"><img src=\"https://colab.research.google.com/assets/colab-badge.svg\" alt=\"Open In Colab\"/></a>"
      ]
    },
    {
      "cell_type": "code",
      "metadata": {
        "colab": {
          "base_uri": "https://localhost:8080/"
        },
        "id": "jyHFcsql2WW-",
        "outputId": "c57b5b42-a11a-4cb5-d403-1129a379aabd"
      },
      "source": [
        "from google.colab import drive\n",
        "drive.mount('/content/gdrive')"
      ],
      "execution_count": 1,
      "outputs": [
        {
          "output_type": "stream",
          "name": "stdout",
          "text": [
            "Mounted at /content/gdrive\n"
          ]
        }
      ]
    },
    {
      "cell_type": "code",
      "metadata": {
        "colab": {
          "base_uri": "https://localhost:8080/"
        },
        "id": "eC-phZAA4e61",
        "outputId": "514db2ee-cf5e-41cc-c592-5f7be8fbb353"
      },
      "source": [
        "!pip install split-folders\n",
        "import splitfolders\n",
        "input_folder = '/content/gdrive/MyDrive/datasets/input_images'\n",
        "output = '/content/gdrive/MyDrive/datasets/preprocessed_data'\n",
        "splitfolders.ratio(input_folder, output,seed=42,ratio=(.8, .2))"
      ],
      "execution_count": 2,
      "outputs": [
        {
          "output_type": "stream",
          "name": "stdout",
          "text": [
            "Collecting split-folders\n",
            "  Downloading split_folders-0.4.3-py3-none-any.whl (7.4 kB)\n",
            "Installing collected packages: split-folders\n",
            "Successfully installed split-folders-0.4.3\n"
          ]
        },
        {
          "output_type": "stream",
          "name": "stderr",
          "text": [
            "Copying files: 200 files [01:56,  1.72 files/s]\n"
          ]
        }
      ]
    },
    {
      "cell_type": "code",
      "metadata": {
        "id": "kyauoOyf4rWv"
      },
      "source": [
        "from tensorflow.keras.layers import Conv2D,Flatten,Dense,MaxPool2D,BatchNormalization,GlobalAveragePooling2D\n",
        "#from tensorflow.keras.applications.vgg16 import preprocess_input\n",
        "from tensorflow.keras.applications.resnet50 import preprocess_input\n",
        "from tensorflow.keras.preprocessing.image import ImageDataGenerator,load_img\n",
        "#from tensorflow.keras.applications.vgg16 import VGG16\n",
        "from tensorflow.keras.applications.resnet50 import ResNet50\n",
        "from tensorflow.keras.preprocessing import image\n",
        "from tensorflow.keras.models import Sequential, Model\n",
        "import numpy as np\n",
        "import matplotlib.pyplot as plt"
      ],
      "execution_count": 3,
      "outputs": []
    },
    {
      "cell_type": "code",
      "metadata": {
        "id": "qYmtmSqxL_wq"
      },
      "source": [
        "img_height, img_width = (224,224)\n",
        "batch_size = 32\n",
        "\n",
        "train_data_dir = r'/content/gdrive/MyDrive/datasets/preprocessed_data/train'\n",
        "valid_data_dir = r'/content/gdrive/MyDrive/datasets/preprocessed_data/val'\n",
        "test_data_dir = r'/content/gdrive/MyDrive/datasets/preprocessed_data/test'"
      ],
      "execution_count": 4,
      "outputs": []
    },
    {
      "cell_type": "code",
      "metadata": {
        "colab": {
          "base_uri": "https://localhost:8080/"
        },
        "id": "KezZds07MTKy",
        "outputId": "c94c5f82-2a6e-4ae7-d916-232a34fb448e"
      },
      "source": [
        "train_datagen = ImageDataGenerator(preprocessing_function=preprocess_input,\n",
        "                                  shear_range=0.2,\n",
        "                                  zoom_range=0.2,\n",
        "                                  horizontal_flip=True,\n",
        "                                  validation_split=0.5)\n",
        "\n",
        "train_generator = train_datagen.flow_from_directory(train_data_dir,\n",
        "                                                    target_size=(img_height, img_width),\n",
        "                                                   batch_size= batch_size,\n",
        "                                                   class_mode='categorical',\n",
        "                                                   subset='training')\n",
        "valid_generator = train_datagen.flow_from_directory(valid_data_dir,\n",
        "                                                   target_size=(img_height, img_width),\n",
        "                                                   batch_size= batch_size,\n",
        "                                                   class_mode='categorical',\n",
        "                                                   subset='validation')"
      ],
      "execution_count": 11,
      "outputs": [
        {
          "output_type": "stream",
          "name": "stdout",
          "text": [
            "Found 80 images belonging to 2 classes.\n",
            "Found 20 images belonging to 2 classes.\n"
          ]
        }
      ]
    },
    {
      "cell_type": "code",
      "metadata": {
        "colab": {
          "base_uri": "https://localhost:8080/"
        },
        "id": "7SYBxUWQ0EHo",
        "outputId": "36630ffa-387f-4ac0-951c-5c85ddbd6ab9"
      },
      "source": [
        "test_generator = train_datagen.flow_from_directory(test_data_dir,\n",
        "                                                  target_size=(img_height, img_width),\n",
        "                                                  batch_size= 1,\n",
        "                                                  class_mode='categorical',\n",
        "                                                  subset='validation')"
      ],
      "execution_count": 12,
      "outputs": [
        {
          "output_type": "stream",
          "name": "stdout",
          "text": [
            "Found 10 images belonging to 2 classes.\n"
          ]
        }
      ]
    },
    {
      "cell_type": "code",
      "metadata": {
        "colab": {
          "base_uri": "https://localhost:8080/"
        },
        "id": "FuqVaD-NP18C",
        "outputId": "7a770b5d-7a6d-46bd-eeb0-cb4e42d9c8a2"
      },
      "source": [
        "#base_model = VGG16(include_top=False, weights='imagenet')\n",
        "base_model = ResNet50(include_top=False, weights='imagenet')\n",
        "x = base_model.output\n",
        "x = GlobalAveragePooling2D()(x)\n",
        "x = Dense(1024, activation='relu')(x)\n",
        "predictions = Dense(train_generator.num_classes, activation='softmax')(x)\n",
        "model = Model(inputs= base_model.input, outputs=predictions)\n",
        "\n",
        "for layer in base_model.layers:\n",
        "    layer.trainable = False\n",
        "    \n",
        "model.compile(optimizer='adam',loss='categorical_crossentropy', metrics=['accuracy'])\n",
        "\n",
        "model.fit(train_generator, epochs = 10)"
      ],
      "execution_count": 13,
      "outputs": [
        {
          "output_type": "stream",
          "name": "stdout",
          "text": [
            "Downloading data from https://storage.googleapis.com/tensorflow/keras-applications/resnet/resnet50_weights_tf_dim_ordering_tf_kernels_notop.h5\n",
            "94773248/94765736 [==============================] - 1s 0us/step\n",
            "94781440/94765736 [==============================] - 1s 0us/step\n",
            "Epoch 1/10\n",
            "3/3 [==============================] - 17s 5s/step - loss: 7.6015 - accuracy: 0.4750\n",
            "Epoch 2/10\n",
            "3/3 [==============================] - 13s 5s/step - loss: 1.6739 - accuracy: 0.6250\n",
            "Epoch 3/10\n",
            "3/3 [==============================] - 13s 4s/step - loss: 0.9260 - accuracy: 0.7875\n",
            "Epoch 4/10\n",
            "3/3 [==============================] - 13s 5s/step - loss: 0.4621 - accuracy: 0.9125\n",
            "Epoch 5/10\n",
            "3/3 [==============================] - 13s 4s/step - loss: 0.5523 - accuracy: 0.8500\n",
            "Epoch 6/10\n",
            "3/3 [==============================] - 13s 4s/step - loss: 0.3730 - accuracy: 0.9250\n",
            "Epoch 7/10\n",
            "3/3 [==============================] - 14s 4s/step - loss: 0.4211 - accuracy: 0.9125\n",
            "Epoch 8/10\n",
            "3/3 [==============================] - 13s 4s/step - loss: 0.3396 - accuracy: 0.9375\n",
            "Epoch 9/10\n",
            "3/3 [==============================] - 13s 5s/step - loss: 0.2070 - accuracy: 0.9375\n",
            "Epoch 10/10\n",
            "3/3 [==============================] - 13s 5s/step - loss: 0.1068 - accuracy: 0.9625\n"
          ]
        },
        {
          "output_type": "execute_result",
          "data": {
            "text/plain": [
              "<keras.callbacks.History at 0x7f0c67425210>"
            ]
          },
          "metadata": {},
          "execution_count": 13
        }
      ]
    },
    {
      "cell_type": "code",
      "metadata": {
        "colab": {
          "base_uri": "https://localhost:8080/"
        },
        "id": "k6VB5wruAJaL",
        "outputId": "e31a9755-dd29-4107-c7a1-dd532ac2b47c"
      },
      "source": [
        "x,y = test_generator.next()\n",
        "x.shape"
      ],
      "execution_count": 14,
      "outputs": [
        {
          "output_type": "execute_result",
          "data": {
            "text/plain": [
              "(1, 224, 224, 3)"
            ]
          },
          "metadata": {},
          "execution_count": 14
        }
      ]
    },
    {
      "cell_type": "code",
      "metadata": {
        "colab": {
          "base_uri": "https://localhost:8080/",
          "height": 183
        },
        "id": "gzlcpdHQRP0G",
        "outputId": "d45e8b9e-b309-43f3-a738-0da74c1f40c8"
      },
      "source": [
        "#model.save(r'/content/gdrive/MyDrive/datasets/VGG16_classification.h5')\n",
        "model.save(r'C:/Users/pavas.srivastava/OneDrive - Accenture/Desktop/input_images1')"
      ],
      "execution_count": 1,
      "outputs": [
        {
          "output_type": "error",
          "ename": "NameError",
          "evalue": "ignored",
          "traceback": [
            "\u001b[0;31m---------------------------------------------------------------------------\u001b[0m",
            "\u001b[0;31mNameError\u001b[0m                                 Traceback (most recent call last)",
            "\u001b[0;32m<ipython-input-1-e15008d36046>\u001b[0m in \u001b[0;36m<module>\u001b[0;34m()\u001b[0m\n\u001b[1;32m      1\u001b[0m \u001b[0;31m#model.save(r'/content/gdrive/MyDrive/datasets/VGG16_classification.h5')\u001b[0m\u001b[0;34m\u001b[0m\u001b[0;34m\u001b[0m\u001b[0;34m\u001b[0m\u001b[0m\n\u001b[0;32m----> 2\u001b[0;31m \u001b[0mmodel\u001b[0m\u001b[0;34m.\u001b[0m\u001b[0msave\u001b[0m\u001b[0;34m(\u001b[0m\u001b[0;34mr'C:/Users/pavas.srivastava/OneDrive - Accenture/Desktop/input_images1'\u001b[0m\u001b[0;34m)\u001b[0m\u001b[0;34m\u001b[0m\u001b[0;34m\u001b[0m\u001b[0m\n\u001b[0m",
            "\u001b[0;31mNameError\u001b[0m: name 'model' is not defined"
          ]
        }
      ]
    },
    {
      "cell_type": "code",
      "metadata": {
        "id": "6eS-YhhmRkYY",
        "colab": {
          "base_uri": "https://localhost:8080/",
          "height": 201
        },
        "outputId": "638aa9d3-b9f6-425d-a7b2-d75f10eb3955"
      },
      "source": [
        "test_loss, test_acc = model.evaluate(test_generator, verbose=1)\n",
        "\n",
        "print('\\nTest Accuracy: ', test_acc)"
      ],
      "execution_count": 1,
      "outputs": [
        {
          "output_type": "error",
          "ename": "NameError",
          "evalue": "ignored",
          "traceback": [
            "\u001b[0;31m---------------------------------------------------------------------------\u001b[0m",
            "\u001b[0;31mNameError\u001b[0m                                 Traceback (most recent call last)",
            "\u001b[0;32m<ipython-input-1-66d323ea265e>\u001b[0m in \u001b[0;36m<module>\u001b[0;34m()\u001b[0m\n\u001b[0;32m----> 1\u001b[0;31m \u001b[0mtest_loss\u001b[0m\u001b[0;34m,\u001b[0m \u001b[0mtest_acc\u001b[0m \u001b[0;34m=\u001b[0m \u001b[0mmodel\u001b[0m\u001b[0;34m.\u001b[0m\u001b[0mevaluate\u001b[0m\u001b[0;34m(\u001b[0m\u001b[0mtest_generator\u001b[0m\u001b[0;34m,\u001b[0m \u001b[0mverbose\u001b[0m\u001b[0;34m=\u001b[0m\u001b[0;36m1\u001b[0m\u001b[0;34m)\u001b[0m\u001b[0;34m\u001b[0m\u001b[0;34m\u001b[0m\u001b[0m\n\u001b[0m\u001b[1;32m      2\u001b[0m \u001b[0;34m\u001b[0m\u001b[0m\n\u001b[1;32m      3\u001b[0m \u001b[0mprint\u001b[0m\u001b[0;34m(\u001b[0m\u001b[0;34m'\\nTest Accuracy: '\u001b[0m\u001b[0;34m,\u001b[0m \u001b[0mtest_acc\u001b[0m\u001b[0;34m)\u001b[0m\u001b[0;34m\u001b[0m\u001b[0;34m\u001b[0m\u001b[0m\n",
            "\u001b[0;31mNameError\u001b[0m: name 'model' is not defined"
          ]
        }
      ]
    },
    {
      "cell_type": "code",
      "metadata": {
        "colab": {
          "base_uri": "https://localhost:8080/",
          "height": 301
        },
        "id": "iqIQ7npyAbZ_",
        "outputId": "a8abbeaf-1934-43da-99d3-f746ab909ad1"
      },
      "source": [
        "import pandas as pd\n",
        "import seaborn as sns\n",
        "import tensorflow as tf\n",
        "\n",
        "model = tf.keras.models.load_model(r'/content/gdrive/MyDrive/datasets/ResNet50_classification.h5')\n",
        "filenames = test_generator.filenames\n",
        "nb_samples = len(test_generator)\n",
        "y_prob = []\n",
        "y_act = []\n",
        "test_generator.reset()\n",
        "\n",
        "for _ in range(nb_samples):\n",
        "    x_test, y_test = test_generator.next()\n",
        "    y_prob.append(model.predict(x_test))\n",
        "    y_act.append(y_test)\n",
        "    \n",
        "predicted_class = [list(train_generator.class_indices.keys())[i.argmax()] for i in y_prob]\n",
        "actual_class = [list(train_generator.class_indices.keys())[i.argmax()] for i in y_act]\n",
        "\n",
        "out_df = pd.DataFrame(np.vstack([predicted_class, actual_class]).T, columns=['predicted_class','actual_class'])\n",
        "confusion_matrix = pd.crosstab(out_df['actual_class'], out_df['predicted_class'], rownames=['Actual'], colnames=['Predicted'])\n",
        "\n",
        "sns.heatmap(confusion_matrix, cmap='Blues',annot=True, fmt='d')\n",
        "plt.show()\n",
        "print('test_accuracy : {}'.format((np.diagonal(confusion_matrix).sum()/confusion_matrix.sum().sum()*100)))"
      ],
      "execution_count": 17,
      "outputs": [
        {
          "output_type": "display_data",
          "data": {
            "image/png": "[encoded data removed]",
            "text/plain": [
              "<Figure size 432x288 with 2 Axes>"
            ]
          },
          "metadata": {
            "needs_background": "light"
          }
        },
        {
          "output_type": "stream",
          "name": "stdout",
          "text": [
            "test_accuracy : 80.0\n"
          ]
        }
      ]
    },
    {
      "cell_type": "code",
      "metadata": {
        "id": "vbfIQtd6Ale1"
      },
      "source": [
        "model = tf.keras.models.load_model(r'/content/gdrive/MyDrive/datasets/ResNet50_classification.h5')"
      ],
      "execution_count": 19,
      "outputs": []
    },
    {
      "cell_type": "code",
      "metadata": {
        "colab": {
          "base_uri": "https://localhost:8080/"
        },
        "id": "DChj1dhdkUHn",
        "outputId": "ff8f8698-29ec-4c42-d44e-9b7b1e49c159"
      },
      "source": [
        "from tensorflow.keras.preprocessing import image\n",
        "img_path = (r'/content/gdrive/MyDrive/datasets/preprocessed_data/test/non_bold/Capture2.JPG')\n",
        "img = image.load_img(img_path, target_size=(224,224))\n",
        "x=image.img_to_array(img)\n",
        "x=np.expand_dims(x, axis=0)\n",
        "x = preprocess_input(x)\n",
        "print(x.shape)"
      ],
      "execution_count": 20,
      "outputs": [
        {
          "output_type": "stream",
          "name": "stdout",
          "text": [
            "(1, 224, 224, 3)\n"
          ]
        }
      ]
    },
    {
      "cell_type": "code",
      "metadata": {
        "id": "FRvJ_PBPk5yA"
      },
      "source": [
        "preds = model.predict(x)"
      ],
      "execution_count": 21,
      "outputs": []
    },
    {
      "cell_type": "code",
      "metadata": {
        "colab": {
          "base_uri": "https://localhost:8080/"
        },
        "id": "ltsC8kSck90-",
        "outputId": "5ad8ba4f-0400-4103-b281-db9c3e5d463b"
      },
      "source": [
        "preds"
      ],
      "execution_count": 22,
      "outputs": [
        {
          "output_type": "execute_result",
          "data": {
            "text/plain": [
              "array([[0.22207029, 0.7779298 ]], dtype=float32)"
            ]
          },
          "metadata": {},
          "execution_count": 22
        }
      ]
    },
    {
      "cell_type": "code",
      "metadata": {
        "id": "2AShO4rClAg6"
      },
      "source": [
        "#"
      ],
      "execution_count": 30,
      "outputs": []
    },
    {
      "cell_type": "code",
      "metadata": {
        "id": "4_gwmV10lDzu"
      },
      "source": [
        ""
      ],
      "execution_count": 29,
      "outputs": []
    },
    {
      "cell_type": "code",
      "metadata": {
        "id": "J-PgxkcEl2Yi"
      },
      "source": [
        ""
      ],
      "execution_count": null,
      "outputs": []
    }
  ]
}